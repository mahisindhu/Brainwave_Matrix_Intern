{
 "cells": [
  {
   "cell_type": "markdown",
   "id": "04131ceb",
   "metadata": {},
   "source": [
    "# 🛒 Sales Data Analysis: Sample Superstore Dataset\n",
    "An exploratory data analysis (EDA) notebook on Superstore sales data to uncover insights."
   ]
  },
  {
   "cell_type": "code",
   "execution_count": null,
   "id": "704a4278",
   "metadata": {},
   "outputs": [],
   "source": [
    "\n",
    "import pandas as pd\n",
    "import matplotlib.pyplot as plt\n",
    "import seaborn as sns\n",
    "%matplotlib inline\n",
    "\n",
    "# Load the dataset\n",
    "df = pd.read_csv(\"Sample - Superstore.csv\")\n",
    "\n",
    "# Display first few rows\n",
    "df.head()\n"
   ]
  },
  {
   "cell_type": "code",
   "execution_count": null,
   "id": "d09d5676",
   "metadata": {},
   "outputs": [],
   "source": [
    "\n",
    "# Dataset info\n",
    "df.info()\n",
    "\n",
    "# Check for missing values\n",
    "df.isnull().sum()\n"
   ]
  },
  {
   "cell_type": "code",
   "execution_count": null,
   "id": "8e76e6fb",
   "metadata": {},
   "outputs": [],
   "source": [
    "\n",
    "# Drop duplicates if any\n",
    "df.drop_duplicates(inplace=True)\n",
    "\n",
    "# Basic stats\n",
    "df.describe()\n"
   ]
  },
  {
   "cell_type": "code",
   "execution_count": null,
   "id": "2fa5ed7f",
   "metadata": {},
   "outputs": [],
   "source": [
    "\n",
    "# Sales by Category\n",
    "category_sales = df.groupby('Category')['Sales'].sum().sort_values(ascending=False)\n",
    "\n",
    "plt.figure(figsize=(8,5))\n",
    "category_sales.plot(kind='bar', color='skyblue')\n",
    "plt.title(\"Total Sales by Category\")\n",
    "plt.ylabel(\"Sales\")\n",
    "plt.xticks(rotation=45)\n",
    "plt.tight_layout()\n",
    "plt.show()\n"
   ]
  },
  {
   "cell_type": "code",
   "execution_count": null,
   "id": "ac5e447a",
   "metadata": {},
   "outputs": [],
   "source": [
    "\n",
    "# Sales by Region\n",
    "region_sales = df.groupby('Region')['Sales'].sum().sort_values(ascending=False)\n",
    "\n",
    "plt.figure(figsize=(8,5))\n",
    "region_sales.plot(kind='bar', color='orange')\n",
    "plt.title(\"Total Sales by Region\")\n",
    "plt.ylabel(\"Sales\")\n",
    "plt.xticks(rotation=45)\n",
    "plt.tight_layout()\n",
    "plt.show()\n"
   ]
  },
  {
   "cell_type": "code",
   "execution_count": null,
   "id": "1576b128",
   "metadata": {},
   "outputs": [],
   "source": [
    "\n",
    "plt.figure(figsize=(8,5))\n",
    "sns.scatterplot(data=df, x='Discount', y='Profit', hue='Category')\n",
    "plt.title(\"Profit vs Discount\")\n",
    "plt.tight_layout()\n",
    "plt.show()\n"
   ]
  },
  {
   "cell_type": "code",
   "execution_count": null,
   "id": "05edbb46",
   "metadata": {},
   "outputs": [],
   "source": [
    "\n",
    "# Profit by Sub-Category\n",
    "subcategory_profit = df.groupby('Sub-Category')['Profit'].sum().sort_values()\n",
    "\n",
    "plt.figure(figsize=(10,6))\n",
    "subcategory_profit.plot(kind='barh', color='green')\n",
    "plt.title(\"Profit by Sub-Category\")\n",
    "plt.xlabel(\"Profit\")\n",
    "plt.tight_layout()\n",
    "plt.show()\n"
   ]
  }
 ],
 "metadata": {},
 "nbformat": 4,
 "nbformat_minor": 5
}
